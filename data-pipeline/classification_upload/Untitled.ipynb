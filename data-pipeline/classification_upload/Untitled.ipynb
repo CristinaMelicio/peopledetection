{
 "cells": [
  {
   "cell_type": "code",
   "execution_count": 11,
   "metadata": {},
   "outputs": [],
   "source": [
    "import sched, time\n",
    "import requests\n",
    "import json\n",
    "import os\n",
    "from requests.exceptions import HTTPError\n",
    "import pandas as pd"
   ]
  },
  {
   "cell_type": "code",
   "execution_count": 38,
   "metadata": {},
   "outputs": [],
   "source": [
    "sequence_dir = \"/media/nas/PeopleDetection/up_realsense_frames/Data_Seq/AVI\"\n",
    "sequence_records = \"/media/nas/PeopleDetection/up_realsense_frames/Data_Seq/sequences_labeling_record (copy).csv\"\n",
    "server_url = \"http://visionclassificationtool.inov.pt\"\n",
    "sequence_labels = '/media/nas/PeopleDetection/up_realsense_frames/Data_Seq/labels'\n",
    "max_uploads = 10\n",
    "min_size = 50 * 1024\n",
    "interval = 2 * 60 * 60"
   ]
  },
  {
   "cell_type": "markdown",
   "metadata": {},
   "source": [
    "Plan is:\n",
    "Every 30 minutes:\n",
    "- Read sequence_labeling.json\n",
    "- - for each sequence where !sent\n",
    "- - - upload to classification app\n",
    "- - - - if !error\n",
    "- - - - - set sequence.sent to True\n",
    "- - - write to sequence_labeling.json"
   ]
  },
  {
   "cell_type": "code",
   "execution_count": 64,
   "metadata": {},
   "outputs": [],
   "source": [
    "def login():\n",
    "    r = requests.post(server_url+'/api/users/login', json={\n",
    "        'email': 'ricardo.coelho@inov.pt',\n",
    "        'password': 'inov'\n",
    "    })\n",
    "    r.raise_for_status()\n",
    "    return r.json()[\"token\"]\n",
    "\n",
    "def upload_sequence(sequence, session):\n",
    "    filename = sequence_dir+'/'+sequence['name']+'.mp4'\n",
    "    if os.path.getsize(filename) < min_size:\n",
    "        return True\n",
    "    try:\n",
    "        dataset_res = session.post(server_url+'/api/dataset', json={\n",
    "            'name': sequence['name']\n",
    "        })\n",
    "        dataset_res.raise_for_status()\n",
    "        dataset = dataset_res.json()\n",
    "        \n",
    "        files = {}\n",
    "        files[dataset['_id']+'_RGB'] = (filename, open(filename, 'rb'), 'video/mp4')\n",
    "        \n",
    "        upload_res = session.post(server_url+'/api/upload/dataset', files=files)\n",
    "        upload_res.raise_for_status()\n",
    "        \n",
    "        job_res = session.post(server_url+'/api/job', json={\n",
    "            'dataset': dataset['_id'],\n",
    "            'classes': [\"Person\"],\n",
    "            'type': 'Tracking',\n",
    "            'priority': 1,\n",
    "            'channel': 'RGB'\n",
    "        })\n",
    "        job_res.raise_for_status()\n",
    "        return True\n",
    "    except HTTPError as http_err:\n",
    "        print(f'HTTP error occurred: {http_err}')\n",
    "        return False\n",
    "\n",
    "def upload_new_sequences(scheduler): \n",
    "    print(\"Uploading sequences...\")\n",
    "    try:\n",
    "        token = login()\n",
    "    except HTTPError as http_err:\n",
    "        print(f'HTTP error occurred: {http_err}')\n",
    "        return\n",
    "    session = requests.Session()\n",
    "    session.headers.update({\"Authorization\": 'Bearer '+token})\n",
    "    sequences = pd.read_csv(sequence_records)\n",
    "    try:\n",
    "        jobs_res = session.get(server_url+'/api/job')\n",
    "        jobs_res.raise_for_status()\n",
    "        jobs = jobs_res.json()\n",
    "    except HTTPError as http_err:\n",
    "        print(f'HTTP error occurred: {http_err}')\n",
    "        return\n",
    "    active_jobs = [j for j in jobs if j['completion'] < 1]\n",
    "    counter = max_uploads - len(active_jobs)\n",
    "    print('Will upload a max of'+str(counter)+' sequences')\n",
    "    for ix, s in sequences.iterrows():\n",
    "        if counter == 0:\n",
    "            break\n",
    "        if s['sent']:\n",
    "            continue\n",
    "        sequences['sent'][ix] = upload_sequence(s, session)\n",
    "        counter -= s['sent']\n",
    "    print('Uploading done')\n",
    "    sequences.to_csv(sequence_records, index = False)\n",
    "    \n",
    "    #scheduler.enter(interval, 1, upload_new_sequences, (scheduler,))\n",
    "    \n",
    "def download_labelled_sequences(scheduler):\n",
    "    print('Downloading sequences...')\n",
    "    try:\n",
    "        token = login()\n",
    "    except HTTPError as http_err:\n",
    "        print(f'HTTP error occurred: {http_err}')\n",
    "        return\n",
    "    session = requests.Session()\n",
    "    session.headers.update({\"Authorization\": 'Bearer '+token})\n",
    "    sequences = pd.read_csv(sequence_records)\n",
    "    try:\n",
    "        jobs_res = session.get(server_url+'/api/job')\n",
    "        jobs_res.raise_for_status()\n",
    "        jobs = jobs_res.json()\n",
    "    except HTTPError as http_err:\n",
    "        print(f'HTTP error occurred: {http_err}')\n",
    "        return\n",
    "    print(jobs)\n",
    "    complete_jobs = [j for j in jobs if j['completion'] == 1]\n",
    "    print('Will download '+str(len(complete_jobs))+' sequences')\n",
    "    for job in complete_jobs:\n",
    "        dataset_name = job['dataset']['name']\n",
    "        dataset_id = job['dataset']['_id']\n",
    "        job_id = job['_id']\n",
    "        try:\n",
    "            labels_res = session.get(server_url+'/labels/'+dataset_id+'/labels/'+job_id+'_labels.csv')\n",
    "            labels_res.raise_for_status()\n",
    "        except HTTPError as http_err:\n",
    "            print(f'HTTP error occurred: {http_err}')\n",
    "            continue\n",
    "        open(sequence_labels+'/'+dataset_name+'.csv', 'wb').write(labels_res.content)\n",
    "        sequences.loc[sequences['name'] == dataset_name, 'labeled'] = True\n",
    "        try:\n",
    "            dataset_delete_res = session.delete(server_url+'/api/dataset/'+dataset_id)\n",
    "            dataset_delete_res.raise_for_status()\n",
    "        except HTTPError as http_err:\n",
    "            print(f'HTTP error occurred: {http_err}')\n",
    "            continue\n",
    "    sequences.to_csv(sequence_records, index = False)\n",
    "    print('Downloading done')\n",
    "    \n",
    "    #scheduler.enter(interval, 1, download_labelled_sequences, (scheduler,))\n",
    "    "
   ]
  },
  {
   "cell_type": "code",
   "execution_count": 61,
   "metadata": {},
   "outputs": [
    {
     "name": "stdout",
     "output_type": "stream",
     "text": [
      "Uploading sequences...\n",
      "Will upload 10 sequences\n",
      "Uploading done\n"
     ]
    }
   ],
   "source": [
    "upload_new_sequences(None)"
   ]
  },
  {
   "cell_type": "code",
   "execution_count": 65,
   "metadata": {},
   "outputs": [
    {
     "name": "stdout",
     "output_type": "stream",
     "text": [
      "Downloading sequences...\n",
      "[{'_id': '5d3f2d2732d832001751686a', 'type': 'Tracking', 'priority': 0, 'classes': ['Person'], 'creator': '5ceeba2fdfd12000174c1c0f', 'createdAt': '2019-07-29T17:30:15.175Z', 'numberOfTasks': 1, 'completion': 1, 'dataset': {'_id': '5d3f2abbdd892b00102a4454', 'name': '1_cam_1_3', 'updatedAt': '2019-07-29T17:19:57.553Z', 'size': {'RGB': 13, 'Depth': 0}, 'processing': False}, 'state': 'Completed', 'channel': 'RGB'}]\n",
      "Will download 1 sequences\n",
      "Downloading done\n"
     ]
    }
   ],
   "source": [
    "download_labelled_sequences(None)"
   ]
  },
  {
   "cell_type": "code",
   "execution_count": 6,
   "metadata": {},
   "outputs": [
    {
     "name": "stdout",
     "output_type": "stream",
     "text": [
      "je suis la execucion\n"
     ]
    },
    {
     "ename": "FileNotFoundError",
     "evalue": "[Errno 2] No such file or directory: 'media/nas/PeopleDetection/up_realsense_frames/Data_Seq/sequence_labeling_record.json'",
     "output_type": "error",
     "traceback": [
      "\u001b[0;31m---------------------------------------------------------------------------\u001b[0m",
      "\u001b[0;31mFileNotFoundError\u001b[0m                         Traceback (most recent call last)",
      "\u001b[0;32m<ipython-input-6-915b80d968cd>\u001b[0m in \u001b[0;36m<module>\u001b[0;34m\u001b[0m\n\u001b[1;32m      1\u001b[0m \u001b[0ms\u001b[0m \u001b[0;34m=\u001b[0m \u001b[0msched\u001b[0m\u001b[0;34m.\u001b[0m\u001b[0mscheduler\u001b[0m\u001b[0;34m(\u001b[0m\u001b[0mtime\u001b[0m\u001b[0;34m.\u001b[0m\u001b[0mtime\u001b[0m\u001b[0;34m,\u001b[0m \u001b[0mtime\u001b[0m\u001b[0;34m.\u001b[0m\u001b[0msleep\u001b[0m\u001b[0;34m)\u001b[0m\u001b[0;34m\u001b[0m\u001b[0;34m\u001b[0m\u001b[0m\n\u001b[1;32m      2\u001b[0m \u001b[0ms\u001b[0m\u001b[0;34m.\u001b[0m\u001b[0menter\u001b[0m\u001b[0;34m(\u001b[0m\u001b[0;36m1\u001b[0m\u001b[0;34m,\u001b[0m \u001b[0;36m1\u001b[0m\u001b[0;34m,\u001b[0m \u001b[0mupload_to_vm\u001b[0m\u001b[0;34m,\u001b[0m \u001b[0;34m(\u001b[0m\u001b[0ms\u001b[0m\u001b[0;34m,\u001b[0m\u001b[0;34m)\u001b[0m\u001b[0;34m)\u001b[0m\u001b[0;34m\u001b[0m\u001b[0;34m\u001b[0m\u001b[0m\n\u001b[0;32m----> 3\u001b[0;31m \u001b[0ms\u001b[0m\u001b[0;34m.\u001b[0m\u001b[0mrun\u001b[0m\u001b[0;34m(\u001b[0m\u001b[0;34m)\u001b[0m\u001b[0;34m\u001b[0m\u001b[0;34m\u001b[0m\u001b[0m\n\u001b[0m",
      "\u001b[0;32m/usr/lib/python3.6/sched.py\u001b[0m in \u001b[0;36mrun\u001b[0;34m(self, blocking)\u001b[0m\n\u001b[1;32m    152\u001b[0m                 \u001b[0mdelayfunc\u001b[0m\u001b[0;34m(\u001b[0m\u001b[0mtime\u001b[0m \u001b[0;34m-\u001b[0m \u001b[0mnow\u001b[0m\u001b[0;34m)\u001b[0m\u001b[0;34m\u001b[0m\u001b[0;34m\u001b[0m\u001b[0m\n\u001b[1;32m    153\u001b[0m             \u001b[0;32melse\u001b[0m\u001b[0;34m:\u001b[0m\u001b[0;34m\u001b[0m\u001b[0;34m\u001b[0m\u001b[0m\n\u001b[0;32m--> 154\u001b[0;31m                 \u001b[0maction\u001b[0m\u001b[0;34m(\u001b[0m\u001b[0;34m*\u001b[0m\u001b[0margument\u001b[0m\u001b[0;34m,\u001b[0m \u001b[0;34m**\u001b[0m\u001b[0mkwargs\u001b[0m\u001b[0;34m)\u001b[0m\u001b[0;34m\u001b[0m\u001b[0;34m\u001b[0m\u001b[0m\n\u001b[0m\u001b[1;32m    155\u001b[0m                 \u001b[0mdelayfunc\u001b[0m\u001b[0;34m(\u001b[0m\u001b[0;36m0\u001b[0m\u001b[0;34m)\u001b[0m   \u001b[0;31m# Let other threads run\u001b[0m\u001b[0;34m\u001b[0m\u001b[0;34m\u001b[0m\u001b[0m\n\u001b[1;32m    156\u001b[0m \u001b[0;34m\u001b[0m\u001b[0m\n",
      "\u001b[0;32m<ipython-input-5-6f1d139c8ceb>\u001b[0m in \u001b[0;36mupload_to_vm\u001b[0;34m(scheduler)\u001b[0m\n\u001b[1;32m      1\u001b[0m \u001b[0;32mdef\u001b[0m \u001b[0mupload_to_vm\u001b[0m\u001b[0;34m(\u001b[0m\u001b[0mscheduler\u001b[0m\u001b[0;34m)\u001b[0m\u001b[0;34m:\u001b[0m\u001b[0;34m\u001b[0m\u001b[0;34m\u001b[0m\u001b[0m\n\u001b[1;32m      2\u001b[0m     \u001b[0mprint\u001b[0m\u001b[0;34m(\u001b[0m\u001b[0;34m\"je suis la execucion\"\u001b[0m\u001b[0;34m)\u001b[0m\u001b[0;34m\u001b[0m\u001b[0;34m\u001b[0m\u001b[0m\n\u001b[0;32m----> 3\u001b[0;31m     \u001b[0;32mwith\u001b[0m \u001b[0mopen\u001b[0m\u001b[0;34m(\u001b[0m\u001b[0msequence_records\u001b[0m\u001b[0;34m)\u001b[0m \u001b[0;32mas\u001b[0m \u001b[0mjson_file\u001b[0m\u001b[0;34m:\u001b[0m\u001b[0;34m\u001b[0m\u001b[0;34m\u001b[0m\u001b[0m\n\u001b[0m\u001b[1;32m      4\u001b[0m         \u001b[0mdata\u001b[0m \u001b[0;34m=\u001b[0m \u001b[0mjson\u001b[0m\u001b[0;34m.\u001b[0m\u001b[0mload\u001b[0m\u001b[0;34m(\u001b[0m\u001b[0mjson_file\u001b[0m\u001b[0;34m)\u001b[0m\u001b[0;34m\u001b[0m\u001b[0;34m\u001b[0m\u001b[0m\n\u001b[1;32m      5\u001b[0m         \u001b[0mprint\u001b[0m\u001b[0;34m(\u001b[0m\u001b[0mdata\u001b[0m\u001b[0;34m)\u001b[0m\u001b[0;34m\u001b[0m\u001b[0;34m\u001b[0m\u001b[0m\n",
      "\u001b[0;31mFileNotFoundError\u001b[0m: [Errno 2] No such file or directory: 'media/nas/PeopleDetection/up_realsense_frames/Data_Seq/sequence_labeling_record.json'"
     ]
    }
   ],
   "source": [
    "s = sched.scheduler(time.time, time.sleep)\n",
    "s.enter(1, 1, upload_new_sequences, (s,))\n",
    "s.run()"
   ]
  },
  {
   "cell_type": "code",
   "execution_count": null,
   "metadata": {},
   "outputs": [],
   "source": []
  }
 ],
 "metadata": {
  "kernelspec": {
   "display_name": "Python 3",
   "language": "python",
   "name": "python3"
  },
  "language_info": {
   "codemirror_mode": {
    "name": "ipython",
    "version": 3
   },
   "file_extension": ".py",
   "mimetype": "text/x-python",
   "name": "python",
   "nbconvert_exporter": "python",
   "pygments_lexer": "ipython3",
   "version": "3.6.7"
  }
 },
 "nbformat": 4,
 "nbformat_minor": 2
}
