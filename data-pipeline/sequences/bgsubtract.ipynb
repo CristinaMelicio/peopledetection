{
 "cells": [
  {
   "cell_type": "markdown",
   "metadata": {},
   "source": [
    "# Background Subtraction\n",
    "Trying to understand when an image has enough difference from background"
   ]
  },
  {
   "cell_type": "code",
   "execution_count": 1,
   "metadata": {},
   "outputs": [
    {
     "name": "stderr",
     "output_type": "stream",
     "text": [
      "/home/cristinamelicio/anaconda3/lib/python3.7/site-packages/dask/config.py:168: YAMLLoadWarning: calling yaml.load() without Loader=... is deprecated, as the default Loader is unsafe. Please read https://msg.pyyaml.org/load for full details.\n",
      "  data = yaml.load(f.read()) or {}\n"
     ]
    }
   ],
   "source": [
    "import tables\n",
    "import numpy as np\n",
    "import h5py as h5\n",
    "import matplotlib.pyplot as plt\n",
    "import scipy\n",
    "from scipy.interpolate import griddata\n",
    "from sklearn.impute import SimpleImputer\n",
    "import scipy.ndimage as ndi\n",
    "from skimage.restoration import inpaint\n",
    "from skimage.restoration import (denoise_tv_chambolle, denoise_bilateral,\n",
    "                                 denoise_wavelet, estimate_sigma)\n",
    "import cv2\n",
    "from astropy.convolution import convolve, convolve_fft\n",
    "import skimage.filters as filters\n",
    "import skimage.segmentation as segmentation\n",
    "import skimage.color as color\n",
    "import skimage.morphology as morphology\n",
    "import math"
   ]
  },
  {
   "cell_type": "markdown",
   "metadata": {},
   "source": [
    "### Auxiliary functions"
   ]
  },
  {
   "cell_type": "markdown",
   "metadata": {},
   "source": [
    "#### interpolate frame"
   ]
  },
  {
   "cell_type": "markdown",
   "metadata": {},
   "source": [
    "Interpolates a frame to remove bad points. \n",
    "Three methods available: imputer, inpaint and grid"
   ]
  },
  {
   "cell_type": "code",
   "execution_count": 2,
   "metadata": {},
   "outputs": [],
   "source": [
    "def interpolate_frame(frame,max_height=4500, min_height=0, method=\"imput\"):\n",
    "    '''Interpolates a frame to remove bad points. \n",
    "    Three methods available: imputer, inpaint and grid\n",
    "    '''\n",
    "    if(method == \"imput\"):\n",
    "        shape = frame.shape\n",
    "        frame_flat = frame.flatten()\n",
    "        invalid_mins = np.argwhere(frame_flat <= min_height)\n",
    "        invalid_maxs = np.argwhere(frame_flat >= max_height)\n",
    "        frame_flat[invalid_mins] = np.nan\n",
    "        frame_flat[invalid_maxs] = np.nan\n",
    "        reshape_frame = np.reshape(frame_flat, shape)\n",
    "        imputer = SimpleImputer(missing_values=np.nan, strategy=\"mean\")\n",
    "        result = imputer.fit_transform(reshape_frame)\n",
    "        return result\n",
    "    \n",
    "    if(method == \"inpaint\"):\n",
    "        mask = np.zeros(frame.shape)\n",
    "        mask[frame <= min_height] = 1\n",
    "        mask[frame >= max_height] = 1\n",
    "        result = inpaint.inpaint_biharmonic(frame, mask)\n",
    "        return result\n",
    "    \n",
    "    if(method == \"grid\"):\n",
    "        points = np.nonzero(frame)\n",
    "        values = frame[points]\n",
    "        grid_x, grid_y = np.mgrid[0:720:720j, 0:1280:1280j]\n",
    "        result = griddata(points, values, (grid_x, grid_y), method=\"nearest\")\n",
    "        return result\n",
    "    \n",
    "    if(method == \"convolve\"):\n",
    "        shape = frame.shape\n",
    "        frame_flat = frame.flatten()\n",
    "        invalid_mins = np.argwhere(frame_flat <= min_height)\n",
    "        invalid_maxs = np.argwhere(frame_flat >= max_height)\n",
    "        frame_flat[invalid_mins] = np.nan\n",
    "        frame_flat[invalid_maxs] = np.nan\n",
    "        reshape_frame = np.reshape(frame_flat, shape)\n",
    "        result = convolve_fft(reshape_frame, [[1,1,0,1,1],[1,1,0,1,1],[1,1,0,1,1]], boundary=\"wrap\")\n",
    "        return result\n",
    "    \n",
    "    return frame"
   ]
  },
  {
   "cell_type": "markdown",
   "metadata": {},
   "source": [
    "#### frames median"
   ]
  },
  {
   "cell_type": "markdown",
   "metadata": {},
   "source": [
    "Calculates the median frame from the given frame indexes and file."
   ]
  },
  {
   "cell_type": "code",
   "execution_count": 3,
   "metadata": {},
   "outputs": [],
   "source": [
    "def frames_median(file_name, indexes):\n",
    "    '''Calculates the median frame from \n",
    "    the given frame indexes and file.\n",
    "    '''\n",
    "    file = h5.File(file_name, 'r')\n",
    "    frames_array = [file.get(\"frame_\"+str(f)) for f in indexes]\n",
    "    frames = np.array(frames_array)\n",
    "    median = np.median(frames, axis = 0)\n",
    "    return median"
   ]
  },
  {
   "cell_type": "markdown",
   "metadata": {},
   "source": [
    "#### remove artifacts"
   ]
  },
  {
   "cell_type": "markdown",
   "metadata": {},
   "source": [
    "Removes artifacts from a previously subtracted image. \n",
    "Only allows \"objects\" bigger than a threshold value (5000)"
   ]
  },
  {
   "cell_type": "code",
   "execution_count": 4,
   "metadata": {},
   "outputs": [],
   "source": [
    "def remove_artifacts(frame, min_size=6500, low_pass=1000):\n",
    "    '''Removes artifacts from a previously subtracted image. \n",
    "    Only allows \"objects\" bigger than a threshold value\n",
    "    '''\n",
    "    markers = np.zeros_like(frame)\n",
    "    markers[frame < low_pass] = 1\n",
    "    bools = markers.astype(np.bool)\n",
    "    mask_without_holes = morphology.remove_small_holes(bools, area_threshold=min_size, connectivity=2)\n",
    "    subtracted = frame.copy()\n",
    "    subtracted[mask_without_holes] = 0\n",
    "    return subtracted"
   ]
  },
  {
   "cell_type": "markdown",
   "metadata": {},
   "source": [
    "### Get median from all frames with no passing objects\n",
    "\n",
    "Some frames have bad readings and come out with weird values. Therefore we apply the median to get a more clean image (*see [frames_median](#frames-median)*)."
   ]
  },
  {
   "cell_type": "code",
   "execution_count": 5,
   "metadata": {},
   "outputs": [],
   "source": [
    "stops = [[0,23],\n",
    "    [30,66],\n",
    "    [77,83],\n",
    "    [102,114],\n",
    "    [121,125],\n",
    "    [134,136],\n",
    "    [145,208],\n",
    "    [217,255],\n",
    "    [276,288],\n",
    "    [297,307],\n",
    "    [316,332],\n",
    "    [345,359],\n",
    "    [378,399],\n",
    "    [446,449]]\n",
    "indexes = np.concatenate([np.arange(s[0], s[1]+1) for s in stops])\n",
    "median_frame = frames_median('/media/nas/PeopleDetection/up_realsense_frames/Data/Frames/Depth/5/28/12_57.h5', indexes)"
   ]
  },
  {
   "cell_type": "code",
   "execution_count": 12,
   "metadata": {},
   "outputs": [],
   "source": [
    "file = h5.File('/media/nas/PeopleDetection/up_realsense_frames/Data/Frames/Depth/5/28/12_57.h5', 'r')\n",
    "bad_frame = np.array(file.get(\"frame_0\"),dtype=float)\n",
    "good_frame = np.array(file.get(\"frame_1\"), dtype=float)\n",
    "rgb_frame = cv2.imread(\"/media/nas/PeopleDetection/up_realsense_frames/Data/Frames/Color/5/28/12_57_1_c1.png\")"
   ]
  },
  {
   "cell_type": "code",
   "execution_count": null,
   "metadata": {},
   "outputs": [],
   "source": [
    "%matplotlib notebook\n",
    "plt.figure()\n",
    "\n",
    "plt.subplot(221)\n",
    "plt.imshow(median_frame, cmap=\"bone\")\n",
    "plt.title(\"median\")\n",
    "\n",
    "plt.subplot(222)\n",
    "plt.imshow(bad_frame, cmap=\"bone\")\n",
    "plt.title(\"bad frame\")\n",
    "\n",
    "plt.subplot(223)\n",
    "plt.imshow(good_frame, cmap=\"bone\")\n",
    "plt.title(\"good frame\")\n",
    "\n",
    "plt.subplots_adjust(right=0.85, left=0.06)\n",
    "cax = plt.axes([0.9, 0.1, 0.03, 0.8])\n",
    "plt.colorbar(cax=cax)\n",
    "plt.show()"
   ]
  },
  {
   "cell_type": "code",
   "execution_count": null,
   "metadata": {
    "scrolled": true
   },
   "outputs": [],
   "source": [
    "%matplotlib notebook\n",
    "plt.figure()\n",
    "\n",
    "plt.subplot(121)\n",
    "plt.imshow(median_frame, cmap=\"bone\")\n",
    "plt.title(\"median\")\n",
    "\n",
    "plt.subplot(122)\n",
    "plt.imshow(rgb_frame)\n",
    "plt.title(\"rgb\")\n",
    "\n",
    "plt.subplots_adjust(right=1, left=0.06)\n",
    "plt.show()"
   ]
  },
  {
   "cell_type": "markdown",
   "metadata": {},
   "source": [
    "### Interpolate error data from the median image\n",
    "Error data is considered all data where values are either:\n",
    "- greater than camera height (4.5m)\n",
    "- less than floor (0m)\n",
    "\n",
    "Many points and regions appear where due to camera errors or light reflection problems, the measured height is 0 or negative or is a value way above the camera's measured height.\n",
    "\n",
    "By interpolating we try to reduce these errors.\n",
    "\n",
    "Here we compare 3 methods (*see [interpolate_frame](#interpolate-frame)*):\n",
    "- [SimpleImputer from sklearn](https://scikit-learn.org/stable/modules/generated/sklearn.impute.SimpleImputer.html)\n",
    "- [Inpaint from skimage](https://scikit-image.org/docs/stable/auto_examples/filters/plot_inpaint.html#sphx-glr-auto-examples-filters-plot-inpaint-py)\n",
    "- [Griddata from scipy](https://docs.scipy.org/doc/scipy/reference/generated/scipy.interpolate.griddata.html#scipy.interpolate.griddata)\n",
    "\n",
    "The fastest is by far the imputer, followed by grid. The slowest is inpaint which takes about 20 seconds.\n",
    "All methods work well in this case but the imputer generates the image with the least amount of noise."
   ]
  },
  {
   "cell_type": "code",
   "execution_count": 6,
   "metadata": {},
   "outputs": [],
   "source": [
    "#%%time\n",
    "imputed_median = interpolate_frame(median_frame, method=\"imput\")"
   ]
  },
  {
   "cell_type": "code",
   "execution_count": 7,
   "metadata": {},
   "outputs": [],
   "source": [
    "#%%time\n",
    "inpainted_median = interpolate_frame(median_frame, method=\"inpaint\")"
   ]
  },
  {
   "cell_type": "code",
   "execution_count": 8,
   "metadata": {},
   "outputs": [],
   "source": [
    "#%%time\n",
    "grided_median = interpolate_frame(median_frame, method=\"grid\")"
   ]
  },
  {
   "cell_type": "code",
   "execution_count": null,
   "metadata": {},
   "outputs": [],
   "source": [
    "%matplotlib notebook\n",
    "plt.figure()\n",
    "\n",
    "plt.subplot(221)\n",
    "plt.imshow(median_frame, cmap=\"bone\")\n",
    "plt.title(\"original\")\n",
    "\n",
    "plt.subplot(222)\n",
    "plt.imshow(imputed_median, cmap=\"bone\")\n",
    "plt.title(\"imputed\")\n",
    "\n",
    "plt.subplot(223)\n",
    "plt.imshow(inpainted_median, cmap=\"bone\")\n",
    "plt.title(\"inpainted\")\n",
    "\n",
    "plt.subplot(224)\n",
    "plt.imshow(grided_median, cmap=\"bone\")\n",
    "plt.title(\"grided\")\n",
    "\n",
    "\n",
    "\n",
    "plt.show()"
   ]
  },
  {
   "cell_type": "markdown",
   "metadata": {},
   "source": [
    "### Analyse frame with an object (person)\n",
    "Imputation generates an image with a lot of noise when not used in a median image. This happens because just one frame has much more noise than the median frame, and thus the column mean interpolation fills the gaps with inconsistent values.\n",
    "\n",
    "Both the inpaint and grid are better options here. Their outputs are much more consistent with the outputs observed in the previous topic."
   ]
  },
  {
   "cell_type": "code",
   "execution_count": 13,
   "metadata": {},
   "outputs": [],
   "source": [
    "person_frame = np.array(file.get(\"frame_70\"), dtype=float)\n",
    "person_frame_rgb = cv2.imread(\"/media/nas/PeopleDetection/up_realsense_frames/Data/Frames/Color/5/28/12_57_70_c1.png\")"
   ]
  },
  {
   "cell_type": "code",
   "execution_count": null,
   "metadata": {},
   "outputs": [],
   "source": [
    "%matplotlib notebook\n",
    "plt.figure()\n",
    "\n",
    "plt.subplot(121)\n",
    "plt.imshow(person_frame, cmap=\"bone\")\n",
    "plt.title(\"person\")\n",
    "\n",
    "plt.subplot(122)\n",
    "plt.imshow(person_frame_rgb)\n",
    "plt.title(\"rgb\")\n",
    "\n",
    "plt.subplots_adjust(right=1, left=0.06)\n",
    "plt.show()"
   ]
  },
  {
   "cell_type": "code",
   "execution_count": 14,
   "metadata": {},
   "outputs": [],
   "source": [
    "imputed_person_frame = interpolate_frame(person_frame, method=\"imput\")"
   ]
  },
  {
   "cell_type": "code",
   "execution_count": 15,
   "metadata": {},
   "outputs": [],
   "source": [
    "grided_person_frame = interpolate_frame(person_frame, method=\"grid\")"
   ]
  },
  {
   "cell_type": "code",
   "execution_count": 16,
   "metadata": {},
   "outputs": [],
   "source": [
    "inpainted_person_frame = interpolate_frame(person_frame, method=\"inpaint\")"
   ]
  },
  {
   "cell_type": "code",
   "execution_count": null,
   "metadata": {},
   "outputs": [],
   "source": [
    "%matplotlib notebook\n",
    "plt.figure()\n",
    "\n",
    "plt.subplot(221)\n",
    "plt.imshow(person_frame, cmap=\"bone\")\n",
    "plt.title(\"original\")\n",
    "\n",
    "plt.subplot(222)\n",
    "plt.imshow(inpainted_person_frame, cmap=\"bone\")\n",
    "plt.title(\"inpaint\")\n",
    "\n",
    "plt.subplot(223)\n",
    "plt.imshow(grided_person_frame, cmap=\"bone\")\n",
    "plt.title(\"grid\")\n",
    "\n",
    "plt.subplot(224)\n",
    "plt.imshow(imputed_person_frame, cmap=\"bone\")\n",
    "plt.title(\"imputed\")\n",
    "\n",
    "plt.subplots_adjust(right=1, left=0.06)\n",
    "plt.show()"
   ]
  },
  {
   "cell_type": "markdown",
   "metadata": {},
   "source": [
    "### Subtract background from image\n",
    "Given a corrected frame, subtract the corrected median background, in order to detect the presence of an object.\n",
    "\n",
    "Subtracting the background will always leave some noise as the frames are not perfectly superimposed. The remaining artifacts have to be filtered out in order to isolate the objects in scene.\n",
    "\n",
    "We use the frames corrected using the griddata method as it is fast and yelds good cohesion between the points in the object."
   ]
  },
  {
   "cell_type": "code",
   "execution_count": null,
   "metadata": {},
   "outputs": [],
   "source": [
    "%matplotlib notebook\n",
    "plt.figure()\n",
    "\n",
    "plt.subplot(121)\n",
    "plt.imshow(grided_median, cmap=\"bone\")\n",
    "plt.title(\"empty\")\n",
    "\n",
    "plt.subplot(122)\n",
    "plt.imshow(grided_person_frame, cmap=\"bone\")\n",
    "plt.title(\"person\")\n",
    "\n",
    "plt.show()"
   ]
  },
  {
   "cell_type": "code",
   "execution_count": null,
   "metadata": {},
   "outputs": [],
   "source": [
    "grided_empty_good_frame = interpolate_frame(good_frame, method=\"grid\")\n",
    "grided_empty_bad_frame = interpolate_frame(bad_frame, method=\"grid\")"
   ]
  },
  {
   "cell_type": "markdown",
   "metadata": {},
   "source": [
    "To get the difference between the median background and the other frames we use a simple absolute difference from openCV - [absdiff](https://docs.opencv.org/2.4/modules/core/doc/operations_on_arrays.html#absdiff)\n"
   ]
  },
  {
   "cell_type": "code",
   "execution_count": null,
   "metadata": {},
   "outputs": [],
   "source": [
    "person_frame_dif = cv2.absdiff(grided_median, grided_person_frame)\n",
    "empty_good_frame_dif = cv2.absdiff(grided_median, grided_empty_good_frame)\n",
    "empty_bad_frame_dif = cv2.absdiff(grided_median, grided_empty_bad_frame)"
   ]
  },
  {
   "cell_type": "code",
   "execution_count": null,
   "metadata": {},
   "outputs": [],
   "source": [
    "%matplotlib notebook\n",
    "plt.figure()\n",
    "plt.subplot(221)\n",
    "plt.imshow(empty_good_frame_dif, cmap=\"bone\")\n",
    "plt.title(\"empty (good)\")\n",
    "\n",
    "\n",
    "plt.subplot(222)\n",
    "plt.imshow(empty_bad_frame_dif, cmap=\"bone\")\n",
    "plt.title(\"empty (bad)\")\n",
    "\n",
    "plt.subplot(223)\n",
    "plt.imshow(person_frame_dif, cmap=\"bone\")\n",
    "plt.title(\"person\")\n",
    "\n",
    "plt.show()"
   ]
  },
  {
   "cell_type": "markdown",
   "metadata": {},
   "source": [
    "The difference is not perfect and generates artifacts. These have to be removed in the following way (*see [remove_artifacts](#remove-artifacts)*):\n",
    "\n",
    "- First create a mask with same shape as the frame. \n",
    "- Then set the mask to 1 on positions where the value is less than a low_pass.\n",
    "- Convert the mask to boolean values because the algorithm likes it more this way :)\n",
    "- Apply the scikit-image function [remove_small_holes](https://scikit-image.org/docs/dev/api/skimage.morphology.html#skimage.morphology.remove_small_holes) to the mask to remove the small artifacts from it.\n",
    "- Apply the mask to the frame.\n",
    "\n",
    "When removing the holes, the value of min_size is derived from experimentation. It is the largest value that removes all small artifacts but still small enough to maintain big artificats, wich will be assumed to be passing objects.\n",
    "\n",
    "Both min_size and low_pass will have to be adjusted to find the best general values."
   ]
  },
  {
   "cell_type": "code",
   "execution_count": null,
   "metadata": {},
   "outputs": [],
   "source": [
    "person_subtracted = remove_artifacts(person_frame_dif)\n",
    "empty_good_subtracted = remove_artifacts(empty_good_frame_dif)\n",
    "empty_bad_subtracted = remove_artifacts(empty_bad_frame_dif)"
   ]
  },
  {
   "cell_type": "code",
   "execution_count": null,
   "metadata": {},
   "outputs": [],
   "source": [
    "%matplotlib notebook\n",
    "plt.figure()\n",
    "\n",
    "plt.subplot(221)\n",
    "plt.imshow(person_subtracted, cmap=\"bone\")\n",
    "plt.title(\"person\")\n",
    "\n",
    "plt.subplot(222)\n",
    "plt.imshow(empty_good_subtracted, cmap=\"bone\")\n",
    "plt.title(\"empty(good)\")\n",
    "\n",
    "plt.subplot(223)\n",
    "plt.imshow(empty_bad_subtracted, cmap=\"bone\")\n",
    "plt.title(\"empty(bad)\")\n",
    "\n",
    "plt.show()"
   ]
  },
  {
   "cell_type": "markdown",
   "metadata": {},
   "source": [
    "The example works for proper frames but corrupted frames generate bad results.\n",
    "\n",
    "How to remove these? Discard if max() is greater than a threshold?\n",
    "\n",
    "Seems bad frames are always the first... Discard first X frames?"
   ]
  },
  {
   "cell_type": "markdown",
   "metadata": {},
   "source": [
    "### Experiments with more complex frames\n",
    "\n",
    "Trying the method with some frames where more than one person can be found."
   ]
  },
  {
   "cell_type": "code",
   "execution_count": null,
   "metadata": {},
   "outputs": [],
   "source": [
    "test_frame_indexes = [27, 260, 261, 294, 311, 339, 361]\n",
    "\n",
    "test_frames = np.array([file.get(\"frame_\"+str(i)) for i in test_frame_indexes], dtype=float)"
   ]
  },
  {
   "cell_type": "code",
   "execution_count": null,
   "metadata": {},
   "outputs": [],
   "source": [
    "plt_rows = math.ceil(len(test_frame_indexes)/2.)"
   ]
  },
  {
   "cell_type": "code",
   "execution_count": null,
   "metadata": {},
   "outputs": [],
   "source": [
    "%matplotlib notebook\n",
    "plt.figure(figsize=(7,11))\n",
    "\n",
    "for i in range(1, len(test_frame_indexes)+1):\n",
    "    plt.subplot(plt_rows*100 + 2*10 + i)\n",
    "    plt.imshow(test_frames[i-1], cmap=\"bone\")\n",
    "    plt.title(str(test_frame_indexes[i-1]))\n",
    "\n",
    "plt.subplots_adjust(right=0.85, left=0.06)\n",
    "cax = plt.axes([0.9, 0.1, 0.03, 0.8])\n",
    "plt.colorbar(cax=cax)\n",
    "plt.show()"
   ]
  },
  {
   "cell_type": "code",
   "execution_count": null,
   "metadata": {},
   "outputs": [],
   "source": [
    "vec_interpolate_frame = np.vectorize(interpolate_frame, excluded=[\"method\"], signature=\"(m,n)->(m,n)\")"
   ]
  },
  {
   "cell_type": "code",
   "execution_count": null,
   "metadata": {},
   "outputs": [],
   "source": [
    "interpolated_test_frames = vec_interpolate_frame(test_frames, method=\"grid\")"
   ]
  },
  {
   "cell_type": "code",
   "execution_count": null,
   "metadata": {},
   "outputs": [],
   "source": [
    "%matplotlib notebook\n",
    "plt.figure(figsize=(7,11))\n",
    "\n",
    "for i in range(1, len(test_frame_indexes)+1):\n",
    "    plt.subplot(plt_rows*100 + 2*10 + i)\n",
    "    plt.imshow(interpolated_test_frames[i-1], cmap=\"bone\")\n",
    "    plt.title(str(test_frame_indexes[i-1]))\n",
    "\n",
    "plt.show()"
   ]
  },
  {
   "cell_type": "code",
   "execution_count": null,
   "metadata": {},
   "outputs": [],
   "source": [
    "test_frames_dif = []\n",
    "\n",
    "for fr in interpolated_test_frames:\n",
    "    test_frames_dif.append(cv2.absdiff(grided_median, fr))\n",
    "    \n",
    "test_frames_dif = np.array(test_frames_dif)"
   ]
  },
  {
   "cell_type": "code",
   "execution_count": null,
   "metadata": {},
   "outputs": [],
   "source": [
    "%matplotlib notebook\n",
    "plt.figure(figsize=(7,11))\n",
    "\n",
    "for i in range(1, len(test_frame_indexes)+1):\n",
    "    plt.subplot(plt_rows*100 + 2*10 + i)\n",
    "    plt.imshow(test_frames_dif[i-1], cmap=\"bone\")\n",
    "    plt.title(str(test_frame_indexes[i-1]))\n",
    "\n",
    "plt.show()"
   ]
  },
  {
   "cell_type": "code",
   "execution_count": null,
   "metadata": {},
   "outputs": [],
   "source": [
    "vec_remove_artifacts = np.vectorize(remove_artifacts, signature=\"(m,n)->(m,n)\", excluded=[\"low_pass\", \"min_size\"])"
   ]
  },
  {
   "cell_type": "code",
   "execution_count": null,
   "metadata": {},
   "outputs": [],
   "source": [
    "test_frames_subtracted = vec_remove_artifacts(test_frames_dif)"
   ]
  },
  {
   "cell_type": "code",
   "execution_count": null,
   "metadata": {},
   "outputs": [],
   "source": [
    "%matplotlib notebook\n",
    "plt.figure(figsize=(7,11))\n",
    "\n",
    "for i in range(1, len(test_frame_indexes)+1):\n",
    "    plt.subplot(plt_rows*100 + 2*10 + i)\n",
    "    plt.imshow(test_frames_subtracted[i-1], cmap=\"bone\")\n",
    "    plt.title(str(test_frame_indexes[i-1]))\n",
    "\n",
    "plt.show()"
   ]
  },
  {
   "cell_type": "markdown",
   "metadata": {},
   "source": [
    "### Function with whole algorithm"
   ]
  },
  {
   "cell_type": "code",
   "execution_count": 17,
   "metadata": {},
   "outputs": [],
   "source": [
    "def has_object(background, frame, method=\"grid\"):\n",
    "    interpolated = interpolate_frame(frame, method=method)\n",
    "    dif = cv2.absdiff(background, interpolated)\n",
    "    subtracted = remove_artifacts(dif)\n",
    "    has_obj = subtracted.max() > 0\n",
    "    return np.array([has_obj, subtracted])"
   ]
  },
  {
   "cell_type": "markdown",
   "metadata": {},
   "source": [
    "### Validation with random frames\n",
    "Detecting the presence of objects in random selected frames from the file.\n",
    "We use both the imputer and griddata to detect the objects. \n",
    "\n",
    "The imputer seems to be able to detect objects with the same accuracy, and takes less than a second for 30 frames. However the objects after subtraction seem much more distorted than when using griddata.\n",
    "\n",
    "If the intent is to use the subtraction for something else, then grid should be used. If it is only for detecting presence, imputer is the better choice."
   ]
  },
  {
   "cell_type": "code",
   "execution_count": 18,
   "metadata": {},
   "outputs": [],
   "source": [
    "vec_has_object = np.vectorize(has_object, excluded=[\"background\", \"method\"], signature=\"(m,n),(m,n)->(r)\")"
   ]
  },
  {
   "cell_type": "code",
   "execution_count": 24,
   "metadata": {},
   "outputs": [],
   "source": [
    "test_set = np.random.randint(0,450,30)\n",
    "test_set_frames = np.array([file.get(\"frame_\"+str(f)) for f in test_set], dtype=float)\n",
    "test_set_frames_rgb = np.array([cv2.imread(\"/media/nas/PeopleDetection/up_realsense_frames/Data/Frames/Color/5/28/12_57_\"+str(f)+\"_c1.png\") for f in test_set])"
   ]
  },
  {
   "cell_type": "code",
   "execution_count": 30,
   "metadata": {},
   "outputs": [
    {
     "name": "stdout",
     "output_type": "stream",
     "text": [
      "(720, 1280) (30, 720, 1280) (30, 2)\n"
     ]
    },
    {
     "data": {
      "text/plain": [
       "array([[False,\n",
       "        array([[0., 0., 0., ..., 0., 0., 0.],\n",
       "       [0., 0., 0., ..., 0., 0., 0.],\n",
       "       [0., 0., 0., ..., 0., 0., 0.],\n",
       "       ...,\n",
       "       [0., 0., 0., ..., 0., 0., 0.],\n",
       "       [0., 0., 0., ..., 0., 0., 0.],\n",
       "       [0., 0., 0., ..., 0., 0., 0.]])],\n",
       "       [False,\n",
       "        array([[0., 0., 0., ..., 0., 0., 0.],\n",
       "       [0., 0., 0., ..., 0., 0., 0.],\n",
       "       [0., 0., 0., ..., 0., 0., 0.],\n",
       "       ...,\n",
       "       [0., 0., 0., ..., 0., 0., 0.],\n",
       "       [0., 0., 0., ..., 0., 0., 0.],\n",
       "       [0., 0., 0., ..., 0., 0., 0.]])],\n",
       "       [False,\n",
       "        array([[0., 0., 0., ..., 0., 0., 0.],\n",
       "       [0., 0., 0., ..., 0., 0., 0.],\n",
       "       [0., 0., 0., ..., 0., 0., 0.],\n",
       "       ...,\n",
       "       [0., 0., 0., ..., 0., 0., 0.],\n",
       "       [0., 0., 0., ..., 0., 0., 0.],\n",
       "       [0., 0., 0., ..., 0., 0., 0.]])],\n",
       "       [False,\n",
       "        array([[0., 0., 0., ..., 0., 0., 0.],\n",
       "       [0., 0., 0., ..., 0., 0., 0.],\n",
       "       [0., 0., 0., ..., 0., 0., 0.],\n",
       "       ...,\n",
       "       [0., 0., 0., ..., 0., 0., 0.],\n",
       "       [0., 0., 0., ..., 0., 0., 0.],\n",
       "       [0., 0., 0., ..., 0., 0., 0.]])],\n",
       "       [False,\n",
       "        array([[0., 0., 0., ..., 0., 0., 0.],\n",
       "       [0., 0., 0., ..., 0., 0., 0.],\n",
       "       [0., 0., 0., ..., 0., 0., 0.],\n",
       "       ...,\n",
       "       [0., 0., 0., ..., 0., 0., 0.],\n",
       "       [0., 0., 0., ..., 0., 0., 0.],\n",
       "       [0., 0., 0., ..., 0., 0., 0.]])],\n",
       "       [True,\n",
       "        array([[0., 0., 0., ..., 0., 0., 0.],\n",
       "       [0., 0., 0., ..., 0., 0., 0.],\n",
       "       [0., 0., 0., ..., 0., 0., 0.],\n",
       "       ...,\n",
       "       [0., 0., 0., ..., 0., 0., 0.],\n",
       "       [0., 0., 0., ..., 0., 0., 0.],\n",
       "       [0., 0., 0., ..., 0., 0., 0.]])],\n",
       "       [False,\n",
       "        array([[0., 0., 0., ..., 0., 0., 0.],\n",
       "       [0., 0., 0., ..., 0., 0., 0.],\n",
       "       [0., 0., 0., ..., 0., 0., 0.],\n",
       "       ...,\n",
       "       [0., 0., 0., ..., 0., 0., 0.],\n",
       "       [0., 0., 0., ..., 0., 0., 0.],\n",
       "       [0., 0., 0., ..., 0., 0., 0.]])],\n",
       "       [True,\n",
       "        array([[0., 0., 0., ..., 0., 0., 0.],\n",
       "       [0., 0., 0., ..., 0., 0., 0.],\n",
       "       [0., 0., 0., ..., 0., 0., 0.],\n",
       "       ...,\n",
       "       [0., 0., 0., ..., 0., 0., 0.],\n",
       "       [0., 0., 0., ..., 0., 0., 0.],\n",
       "       [0., 0., 0., ..., 0., 0., 0.]])],\n",
       "       [False,\n",
       "        array([[0., 0., 0., ..., 0., 0., 0.],\n",
       "       [0., 0., 0., ..., 0., 0., 0.],\n",
       "       [0., 0., 0., ..., 0., 0., 0.],\n",
       "       ...,\n",
       "       [0., 0., 0., ..., 0., 0., 0.],\n",
       "       [0., 0., 0., ..., 0., 0., 0.],\n",
       "       [0., 0., 0., ..., 0., 0., 0.]])],\n",
       "       [False,\n",
       "        array([[0., 0., 0., ..., 0., 0., 0.],\n",
       "       [0., 0., 0., ..., 0., 0., 0.],\n",
       "       [0., 0., 0., ..., 0., 0., 0.],\n",
       "       ...,\n",
       "       [0., 0., 0., ..., 0., 0., 0.],\n",
       "       [0., 0., 0., ..., 0., 0., 0.],\n",
       "       [0., 0., 0., ..., 0., 0., 0.]])],\n",
       "       [False,\n",
       "        array([[0., 0., 0., ..., 0., 0., 0.],\n",
       "       [0., 0., 0., ..., 0., 0., 0.],\n",
       "       [0., 0., 0., ..., 0., 0., 0.],\n",
       "       ...,\n",
       "       [0., 0., 0., ..., 0., 0., 0.],\n",
       "       [0., 0., 0., ..., 0., 0., 0.],\n",
       "       [0., 0., 0., ..., 0., 0., 0.]])],\n",
       "       [False,\n",
       "        array([[0., 0., 0., ..., 0., 0., 0.],\n",
       "       [0., 0., 0., ..., 0., 0., 0.],\n",
       "       [0., 0., 0., ..., 0., 0., 0.],\n",
       "       ...,\n",
       "       [0., 0., 0., ..., 0., 0., 0.],\n",
       "       [0., 0., 0., ..., 0., 0., 0.],\n",
       "       [0., 0., 0., ..., 0., 0., 0.]])],\n",
       "       [True,\n",
       "        array([[0., 0., 0., ..., 0., 0., 0.],\n",
       "       [0., 0., 0., ..., 0., 0., 0.],\n",
       "       [0., 0., 0., ..., 0., 0., 0.],\n",
       "       ...,\n",
       "       [0., 0., 0., ..., 0., 0., 0.],\n",
       "       [0., 0., 0., ..., 0., 0., 0.],\n",
       "       [0., 0., 0., ..., 0., 0., 0.]])],\n",
       "       [True,\n",
       "        array([[0., 0., 0., ..., 0., 0., 0.],\n",
       "       [0., 0., 0., ..., 0., 0., 0.],\n",
       "       [0., 0., 0., ..., 0., 0., 0.],\n",
       "       ...,\n",
       "       [0., 0., 0., ..., 0., 0., 0.],\n",
       "       [0., 0., 0., ..., 0., 0., 0.],\n",
       "       [0., 0., 0., ..., 0., 0., 0.]])],\n",
       "       [False,\n",
       "        array([[0., 0., 0., ..., 0., 0., 0.],\n",
       "       [0., 0., 0., ..., 0., 0., 0.],\n",
       "       [0., 0., 0., ..., 0., 0., 0.],\n",
       "       ...,\n",
       "       [0., 0., 0., ..., 0., 0., 0.],\n",
       "       [0., 0., 0., ..., 0., 0., 0.],\n",
       "       [0., 0., 0., ..., 0., 0., 0.]])],\n",
       "       [False,\n",
       "        array([[0., 0., 0., ..., 0., 0., 0.],\n",
       "       [0., 0., 0., ..., 0., 0., 0.],\n",
       "       [0., 0., 0., ..., 0., 0., 0.],\n",
       "       ...,\n",
       "       [0., 0., 0., ..., 0., 0., 0.],\n",
       "       [0., 0., 0., ..., 0., 0., 0.],\n",
       "       [0., 0., 0., ..., 0., 0., 0.]])],\n",
       "       [False,\n",
       "        array([[0., 0., 0., ..., 0., 0., 0.],\n",
       "       [0., 0., 0., ..., 0., 0., 0.],\n",
       "       [0., 0., 0., ..., 0., 0., 0.],\n",
       "       ...,\n",
       "       [0., 0., 0., ..., 0., 0., 0.],\n",
       "       [0., 0., 0., ..., 0., 0., 0.],\n",
       "       [0., 0., 0., ..., 0., 0., 0.]])],\n",
       "       [False,\n",
       "        array([[0., 0., 0., ..., 0., 0., 0.],\n",
       "       [0., 0., 0., ..., 0., 0., 0.],\n",
       "       [0., 0., 0., ..., 0., 0., 0.],\n",
       "       ...,\n",
       "       [0., 0., 0., ..., 0., 0., 0.],\n",
       "       [0., 0., 0., ..., 0., 0., 0.],\n",
       "       [0., 0., 0., ..., 0., 0., 0.]])],\n",
       "       [False,\n",
       "        array([[0., 0., 0., ..., 0., 0., 0.],\n",
       "       [0., 0., 0., ..., 0., 0., 0.],\n",
       "       [0., 0., 0., ..., 0., 0., 0.],\n",
       "       ...,\n",
       "       [0., 0., 0., ..., 0., 0., 0.],\n",
       "       [0., 0., 0., ..., 0., 0., 0.],\n",
       "       [0., 0., 0., ..., 0., 0., 0.]])],\n",
       "       [False,\n",
       "        array([[0., 0., 0., ..., 0., 0., 0.],\n",
       "       [0., 0., 0., ..., 0., 0., 0.],\n",
       "       [0., 0., 0., ..., 0., 0., 0.],\n",
       "       ...,\n",
       "       [0., 0., 0., ..., 0., 0., 0.],\n",
       "       [0., 0., 0., ..., 0., 0., 0.],\n",
       "       [0., 0., 0., ..., 0., 0., 0.]])],\n",
       "       [False,\n",
       "        array([[0., 0., 0., ..., 0., 0., 0.],\n",
       "       [0., 0., 0., ..., 0., 0., 0.],\n",
       "       [0., 0., 0., ..., 0., 0., 0.],\n",
       "       ...,\n",
       "       [0., 0., 0., ..., 0., 0., 0.],\n",
       "       [0., 0., 0., ..., 0., 0., 0.],\n",
       "       [0., 0., 0., ..., 0., 0., 0.]])],\n",
       "       [True,\n",
       "        array([[0., 0., 0., ..., 0., 0., 0.],\n",
       "       [0., 0., 0., ..., 0., 0., 0.],\n",
       "       [0., 0., 0., ..., 0., 0., 0.],\n",
       "       ...,\n",
       "       [0., 0., 0., ..., 0., 0., 0.],\n",
       "       [0., 0., 0., ..., 0., 0., 0.],\n",
       "       [0., 0., 0., ..., 0., 0., 0.]])],\n",
       "       [False,\n",
       "        array([[0., 0., 0., ..., 0., 0., 0.],\n",
       "       [0., 0., 0., ..., 0., 0., 0.],\n",
       "       [0., 0., 0., ..., 0., 0., 0.],\n",
       "       ...,\n",
       "       [0., 0., 0., ..., 0., 0., 0.],\n",
       "       [0., 0., 0., ..., 0., 0., 0.],\n",
       "       [0., 0., 0., ..., 0., 0., 0.]])],\n",
       "       [True,\n",
       "        array([[0., 0., 0., ..., 0., 0., 0.],\n",
       "       [0., 0., 0., ..., 0., 0., 0.],\n",
       "       [0., 0., 0., ..., 0., 0., 0.],\n",
       "       ...,\n",
       "       [0., 0., 0., ..., 0., 0., 0.],\n",
       "       [0., 0., 0., ..., 0., 0., 0.],\n",
       "       [0., 0., 0., ..., 0., 0., 0.]])],\n",
       "       [False,\n",
       "        array([[0., 0., 0., ..., 0., 0., 0.],\n",
       "       [0., 0., 0., ..., 0., 0., 0.],\n",
       "       [0., 0., 0., ..., 0., 0., 0.],\n",
       "       ...,\n",
       "       [0., 0., 0., ..., 0., 0., 0.],\n",
       "       [0., 0., 0., ..., 0., 0., 0.],\n",
       "       [0., 0., 0., ..., 0., 0., 0.]])],\n",
       "       [False,\n",
       "        array([[0., 0., 0., ..., 0., 0., 0.],\n",
       "       [0., 0., 0., ..., 0., 0., 0.],\n",
       "       [0., 0., 0., ..., 0., 0., 0.],\n",
       "       ...,\n",
       "       [0., 0., 0., ..., 0., 0., 0.],\n",
       "       [0., 0., 0., ..., 0., 0., 0.],\n",
       "       [0., 0., 0., ..., 0., 0., 0.]])],\n",
       "       [False,\n",
       "        array([[0., 0., 0., ..., 0., 0., 0.],\n",
       "       [0., 0., 0., ..., 0., 0., 0.],\n",
       "       [0., 0., 0., ..., 0., 0., 0.],\n",
       "       ...,\n",
       "       [0., 0., 0., ..., 0., 0., 0.],\n",
       "       [0., 0., 0., ..., 0., 0., 0.],\n",
       "       [0., 0., 0., ..., 0., 0., 0.]])],\n",
       "       [False,\n",
       "        array([[0., 0., 0., ..., 0., 0., 0.],\n",
       "       [0., 0., 0., ..., 0., 0., 0.],\n",
       "       [0., 0., 0., ..., 0., 0., 0.],\n",
       "       ...,\n",
       "       [0., 0., 0., ..., 0., 0., 0.],\n",
       "       [0., 0., 0., ..., 0., 0., 0.],\n",
       "       [0., 0., 0., ..., 0., 0., 0.]])],\n",
       "       [False,\n",
       "        array([[0., 0., 0., ..., 0., 0., 0.],\n",
       "       [0., 0., 0., ..., 0., 0., 0.],\n",
       "       [0., 0., 0., ..., 0., 0., 0.],\n",
       "       ...,\n",
       "       [0., 0., 0., ..., 0., 0., 0.],\n",
       "       [0., 0., 0., ..., 0., 0., 0.],\n",
       "       [0., 0., 0., ..., 0., 0., 0.]])],\n",
       "       [False,\n",
       "        array([[0., 0., 0., ..., 0., 0., 0.],\n",
       "       [0., 0., 0., ..., 0., 0., 0.],\n",
       "       [0., 0., 0., ..., 0., 0., 0.],\n",
       "       ...,\n",
       "       [0., 0., 0., ..., 0., 0., 0.],\n",
       "       [0., 0., 0., ..., 0., 0., 0.],\n",
       "       [0., 0., 0., ..., 0., 0., 0.]])]], dtype=object)"
      ]
     },
     "execution_count": 30,
     "metadata": {},
     "output_type": "execute_result"
    }
   ],
   "source": [
    "#%%time\n",
    "test_set_result_imputer = vec_has_object(imputed_median, test_set_frames, method=\"imput\")\n",
    "print(imputed_median.shape, test_set_frames.shape, test_set_result_imputer.shape)\n",
    "test_set_result_imputer"
   ]
  },
  {
   "cell_type": "code",
   "execution_count": 21,
   "metadata": {},
   "outputs": [],
   "source": [
    "#%%time\n",
    "test_set_result_grid = vec_has_object(grided_median, test_set_frames, method=\"grid\")"
   ]
  },
  {
   "cell_type": "code",
   "execution_count": 26,
   "metadata": {},
   "outputs": [
    {
     "name": "stdout",
     "output_type": "stream",
     "text": [
      "(720, 1280) (30, 720, 1280)\n"
     ]
    }
   ],
   "source": []
  },
  {
   "cell_type": "code",
   "execution_count": null,
   "metadata": {},
   "outputs": [],
   "source": [
    "%matplotlib notebook\n",
    "fig = plt.figure(figsize=(7,16))\n",
    "\n",
    "length = len(test_set)\n",
    "rows = math.ceil(length/2.)\n",
    "\n",
    "for i in range(1, length+1):\n",
    "    plt.subplot(rows, 4, i)\n",
    "    plt.imshow(test_set_result_imputer[i-1][1], cmap=\"bone\")\n",
    "    plt.title(str(test_set[i-1]) + \": \" + str(test_set_result_imputer[i-1][0]))\n",
    "    plt.axis(\"off\")\n",
    "\n",
    "plt.show()\n",
    "fig.tight_layout()"
   ]
  },
  {
   "cell_type": "code",
   "execution_count": null,
   "metadata": {},
   "outputs": [],
   "source": [
    "%matplotlib notebook\n",
    "fig = plt.figure(figsize=(7,16))\n",
    "\n",
    "length = len(test_set)\n",
    "rows = math.ceil(length/2.)\n",
    "\n",
    "for i in range(1, length+1):\n",
    "    plt.subplot(rows, 4, i)\n",
    "    plt.imshow(test_set_result_grid[i-1][1], cmap=\"bone\")\n",
    "    plt.title(str(test_set[i-1]) + \": \" + str(test_set_result_grid[i-1][0]))\n",
    "    plt.axis(\"off\")\n",
    "\n",
    "plt.show()\n",
    "\n",
    "fig.tight_layout()"
   ]
  },
  {
   "cell_type": "code",
   "execution_count": null,
   "metadata": {},
   "outputs": [],
   "source": [
    "%matplotlib notebook\n",
    "fig = plt.figure(figsize=(7,16))\n",
    "\n",
    "length = len(test_set)\n",
    "rows = math.ceil(length/2.)\n",
    "\n",
    "for i in range(1, length+1):\n",
    "    plt.subplot(rows, 4, i)\n",
    "    plt.imshow(test_set_frames_rgb[i-1])\n",
    "    plt.title(str(test_set[i-1]) + \": \" + str(test_set_result_grid[i-1][0]))\n",
    "    plt.axis(\"off\")\n",
    "\n",
    "plt.show()\n",
    "fig.tight_layout()"
   ]
  },
  {
   "cell_type": "code",
   "execution_count": null,
   "metadata": {},
   "outputs": [],
   "source": []
  }
 ],
 "metadata": {
  "kernelspec": {
   "display_name": "Python 3",
   "language": "python",
   "name": "python3"
  },
  "language_info": {
   "codemirror_mode": {
    "name": "ipython",
    "version": 3
   },
   "file_extension": ".py",
   "mimetype": "text/x-python",
   "name": "python",
   "nbconvert_exporter": "python",
   "pygments_lexer": "ipython3",
   "version": "3.6.9"
  }
 },
 "nbformat": 4,
 "nbformat_minor": 2
}
